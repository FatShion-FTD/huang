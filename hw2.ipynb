{
 "cells": [
  {
   "cell_type": "code",
   "execution_count": 2,
   "metadata": {},
   "outputs": [
    {
     "name": "stdout",
     "output_type": "stream",
     "text": [
      "Epoch [1000/10000], Loss: 0.6933\n",
      "Epoch [2000/10000], Loss: 0.6929\n",
      "Epoch [3000/10000], Loss: 0.6917\n",
      "Epoch [4000/10000], Loss: 0.6780\n",
      "Epoch [5000/10000], Loss: 0.5840\n",
      "Epoch [6000/10000], Loss: 0.4358\n",
      "Epoch [7000/10000], Loss: 0.1809\n",
      "Epoch [8000/10000], Loss: 0.0790\n",
      "Epoch [9000/10000], Loss: 0.0470\n",
      "Epoch [10000/10000], Loss: 0.0328\n",
      "\n",
      "Predictions after training:\n",
      "tensor([[0.0236],\n",
      "        [0.9710],\n",
      "        [0.9710],\n",
      "        [0.0471]], device='cuda:0')\n"
     ]
    }
   ],
   "source": [
    "import torch\n",
    "import torch.nn as nn\n",
    "import torch.optim as optim\n",
    "\n",
    "\n",
    "X = torch.tensor([[0, 0],\n",
    "                  [0, 1],\n",
    "                  [1, 0],\n",
    "                  [1, 1]], dtype=torch.float32)\n",
    "\n",
    "y = torch.tensor([[0],\n",
    "                  [1],\n",
    "                  [1],\n",
    "                  [0]], dtype=torch.float32)\n",
    "\n",
    "class XORNet(nn.Module):\n",
    "    def __init__(self):\n",
    "        super(XORNet, self).__init__()\n",
    "        self.fc1 = nn.Linear(2, 2)\n",
    "        self.fc2 = nn.Linear(2, 1)\n",
    "        self.sigmoid = nn.Sigmoid()\n",
    "    \n",
    "    def forward(self, x):\n",
    "        x = self.sigmoid(self.fc1(x))\n",
    "        x = self.sigmoid(self.fc2(x))\n",
    "        return x\n",
    "\n",
    "device = torch.device('cuda' if torch.cuda.is_available() else 'cpu')\n",
    "net = XORNet().to(device)\n",
    "\n",
    "criterion = nn.BCELoss()\n",
    "optimizer = optim.SGD(net.parameters(), lr=0.1)\n",
    "\n",
    "num_epochs = 10000\n",
    "X, y = X.to(device), y.to(device)\n",
    "\n",
    "for epoch in range(num_epochs):\n",
    "    optimizer.zero_grad()        \n",
    "    outputs = net(X)             \n",
    "    loss = criterion(outputs, y) \n",
    "    loss.backward()              \n",
    "    optimizer.step()             \n",
    "    \n",
    "    if (epoch+1) % 1000 == 0:\n",
    "        print(f'Epoch [{epoch+1}/{num_epochs}], Loss: {loss.item():.4f}')\n",
    "\n",
    "with torch.no_grad():\n",
    "    predictions = net(X)\n",
    "    print(\"\\nPredictions after training:\")\n",
    "    print(predictions)\n"
   ]
  }
 ],
 "metadata": {
  "kernelspec": {
   "display_name": "CUDA",
   "language": "python",
   "name": "python3"
  },
  "language_info": {
   "codemirror_mode": {
    "name": "ipython",
    "version": 3
   },
   "file_extension": ".py",
   "mimetype": "text/x-python",
   "name": "python",
   "nbconvert_exporter": "python",
   "pygments_lexer": "ipython3",
   "version": "3.8.12"
  }
 },
 "nbformat": 4,
 "nbformat_minor": 2
}
